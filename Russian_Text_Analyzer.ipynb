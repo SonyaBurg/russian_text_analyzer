{
  "nbformat": 4,
  "nbformat_minor": 0,
  "metadata": {
    "colab": {
      "name": "Russian Text Analyzer",
      "provenance": [],
      "collapsed_sections": [],
      "authorship_tag": "ABX9TyMaa6QmOgkFzj8hh8Pncgmt"
    },
    "kernelspec": {
      "name": "python3",
      "display_name": "Python 3"
    },
    "language_info": {
      "name": "python"
    }
  },
  "cells": [
    {
      "cell_type": "markdown",
      "source": [
        "# Установим и импортируем библиотеки\n",
        "### Для анализа текста\n",
        "* PyMorphy2\n",
        "* natasha\n",
        "\n",
        "### Для обработки и визуализации данных:\n",
        "* re\n",
        "* pandas\n",
        "* matplotlib\n",
        "* seaborn\n",
        "\n",
        "\n"
      ],
      "metadata": {
        "id": "zM1rOUm0uFrD"
      }
    },
    {
      "cell_type": "code",
      "execution_count": null,
      "metadata": {
        "colab": {
          "base_uri": "https://localhost:8080/"
        },
        "id": "j6cW7ObwSTgd",
        "outputId": "bb46d346-720e-4b1e-dec5-3bd9a46e19eb"
      },
      "outputs": [
        {
          "output_type": "stream",
          "name": "stdout",
          "text": [
            "Requirement already satisfied: pymorphy2 in /usr/local/lib/python3.7/dist-packages (0.9.1)\n",
            "Requirement already satisfied: dawg-python>=0.7.1 in /usr/local/lib/python3.7/dist-packages (from pymorphy2) (0.7.2)\n",
            "Requirement already satisfied: docopt>=0.6 in /usr/local/lib/python3.7/dist-packages (from pymorphy2) (0.6.2)\n",
            "Requirement already satisfied: pymorphy2-dicts-ru<3.0,>=2.4 in /usr/local/lib/python3.7/dist-packages (from pymorphy2) (2.4.417127.4579844)\n",
            "Requirement already satisfied: natasha in /usr/local/lib/python3.7/dist-packages (1.4.0)\n",
            "Requirement already satisfied: yargy>=0.14.0 in /usr/local/lib/python3.7/dist-packages (from natasha) (0.15.0)\n",
            "Requirement already satisfied: navec>=0.9.0 in /usr/local/lib/python3.7/dist-packages (from natasha) (0.10.0)\n",
            "Requirement already satisfied: razdel>=0.5.0 in /usr/local/lib/python3.7/dist-packages (from natasha) (0.5.0)\n",
            "Requirement already satisfied: slovnet>=0.3.0 in /usr/local/lib/python3.7/dist-packages (from natasha) (0.5.0)\n",
            "Requirement already satisfied: ipymarkup>=0.8.0 in /usr/local/lib/python3.7/dist-packages (from natasha) (0.9.0)\n",
            "Requirement already satisfied: pymorphy2 in /usr/local/lib/python3.7/dist-packages (from natasha) (0.9.1)\n",
            "Requirement already satisfied: intervaltree>=3 in /usr/local/lib/python3.7/dist-packages (from ipymarkup>=0.8.0->natasha) (3.1.0)\n",
            "Requirement already satisfied: sortedcontainers<3.0,>=2.0 in /usr/local/lib/python3.7/dist-packages (from intervaltree>=3->ipymarkup>=0.8.0->natasha) (2.4.0)\n",
            "Requirement already satisfied: numpy in /usr/local/lib/python3.7/dist-packages (from navec>=0.9.0->natasha) (1.21.6)\n",
            "Requirement already satisfied: docopt>=0.6 in /usr/local/lib/python3.7/dist-packages (from pymorphy2->natasha) (0.6.2)\n",
            "Requirement already satisfied: pymorphy2-dicts-ru<3.0,>=2.4 in /usr/local/lib/python3.7/dist-packages (from pymorphy2->natasha) (2.4.417127.4579844)\n",
            "Requirement already satisfied: dawg-python>=0.7.1 in /usr/local/lib/python3.7/dist-packages (from pymorphy2->natasha) (0.7.2)\n",
            "Requirement already satisfied: conllu in /usr/local/lib/python3.7/dist-packages (4.4.2)\n"
          ]
        }
      ],
      "source": [
        "!pip install pymorphy2\n",
        "!pip install natasha\n",
        "!pip install conllu"
      ]
    },
    {
      "cell_type": "code",
      "source": [
        "import pymorphy2\n",
        "import re\n",
        "import conllu\n",
        "import pandas"
      ],
      "metadata": {
        "id": "SRs4VnVsSYKN"
      },
      "execution_count": null,
      "outputs": []
    },
    {
      "cell_type": "code",
      "source": [
        "from natasha import (\n",
        "    Segmenter,\n",
        "    MorphVocab,\n",
        "    \n",
        "    NewsEmbedding,\n",
        "    NewsMorphTagger,\n",
        "    NewsSyntaxParser,\n",
        "    NewsNERTagger,\n",
        "    \n",
        "    PER,\n",
        "    NamesExtractor,\n",
        "\n",
        "    Doc\n",
        ")\n"
      ],
      "metadata": {
        "id": "6DL73SEp2gKQ"
      },
      "execution_count": null,
      "outputs": []
    },
    {
      "cell_type": "code",
      "source": [
        "import seaborn as sns\n",
        "import matplotlib.pyplot as plt"
      ],
      "metadata": {
        "id": "_QgqWmg3Z3IA"
      },
      "execution_count": null,
      "outputs": []
    },
    {
      "cell_type": "markdown",
      "source": [
        "### Добавляем файл с текстом в окружение и загружаем его в проект"
      ],
      "metadata": {
        "id": "aT-dZBosus9J"
      }
    },
    {
      "cell_type": "code",
      "source": [
        "text = open('data.txt').read()\n",
        "data = text.replace('\\n', ' ').split()"
      ],
      "metadata": {
        "id": "4dY-5EoGVo07"
      },
      "execution_count": null,
      "outputs": []
    },
    {
      "cell_type": "markdown",
      "source": [
        "### Объявим вспомогательную функцию ```calculate_distribution``` для подчсета распределения частей речи. Для каждого слова из входного массива ```to_process``` будет определена часть речи с помощью модуля ```MorphAnalyzer``` из библиотеки ```PyMorphy2```\n"
      ],
      "metadata": {
        "id": "m5ijKJ_WvZcS"
      }
    },
    {
      "cell_type": "code",
      "source": [
        "def calculate_distribution(to_process):\n",
        "  morph = pymorphy2.MorphAnalyzer()\n",
        "  distribution = {}\n",
        "  for i in to_process:\n",
        "    if str(morph.parse(i)[0].tag.POS) not in distribution:\n",
        "      distribution[str(morph.parse(i)[0].tag.POS)] = 0\n",
        "    distribution[str(morph.parse(i)[0].tag.POS)] += 1\n",
        "  return {k: v for k, v in sorted(distribution.items(), key=lambda item: -item[1])}"
      ],
      "metadata": {
        "id": "E1Y-XlyKXIbt"
      },
      "execution_count": null,
      "outputs": []
    },
    {
      "cell_type": "code",
      "source": [
        "sns.set_theme(style=\"whitegrid\")"
      ],
      "metadata": {
        "id": "tJxzjWira19e"
      },
      "execution_count": null,
      "outputs": []
    },
    {
      "cell_type": "markdown",
      "source": [
        "### Функция ```barplot_dict``` выведет столбчатую диаграмму для данного распределения"
      ],
      "metadata": {
        "id": "BUah9YP-6JZe"
      }
    },
    {
      "cell_type": "code",
      "source": [
        "def barplot_dict(distr):\n",
        "  df = pandas.DataFrame(distr, index=[0])\n",
        "  values = df.values.flatten()\n",
        "  ax = sns.barplot(x=df.columns, y=values)\n",
        "  ax.set_xticklabels(ax.get_xticklabels(), rotation=45)\n",
        "  plt.show()"
      ],
      "metadata": {
        "id": "9Nd-BSosWmyO"
      },
      "execution_count": null,
      "outputs": []
    },
    {
      "cell_type": "markdown",
      "source": [
        "### Разбиваем текст на слова, очищаем от знаков препинания и сохраняем в массив ```cleaned_data```"
      ],
      "metadata": {
        "id": "pq4Yz9lEu-N-"
      }
    },
    {
      "cell_type": "code",
      "source": [
        "cleaned_data = []\n",
        "for i in data:\n",
        "  cleaned_data.append(re.sub('\\d+', '', re.sub(r'[^\\w\\s-]', '', i.lower())))"
      ],
      "metadata": {
        "id": "ejmuimV2WA65"
      },
      "execution_count": null,
      "outputs": []
    },
    {
      "cell_type": "code",
      "source": [
        "cleaned_data"
      ],
      "metadata": {
        "colab": {
          "base_uri": "https://localhost:8080/"
        },
        "id": "AEF-uOwbWv9f",
        "outputId": "3097bcb8-8e9a-403d-af94-94f4453f71d8"
      },
      "execution_count": null,
      "outputs": [
        {
          "output_type": "execute_result",
          "data": {
            "text/plain": [
              "['засыпет',\n",
              " 'снег',\n",
              " 'дороги',\n",
              " 'завалит',\n",
              " 'скаты',\n",
              " 'крыш',\n",
              " 'пойду',\n",
              " 'размять',\n",
              " 'я',\n",
              " 'ноги',\n",
              " 'за',\n",
              " 'дверью',\n",
              " 'ты',\n",
              " 'стоишь',\n",
              " 'одна',\n",
              " 'в',\n",
              " 'пальто',\n",
              " 'осеннем',\n",
              " 'без',\n",
              " 'шляпы',\n",
              " 'без',\n",
              " 'калош',\n",
              " 'ты',\n",
              " 'борешься',\n",
              " 'с',\n",
              " 'волненьем',\n",
              " 'и',\n",
              " 'мокрый',\n",
              " 'снег',\n",
              " 'жуешь',\n",
              " 'деревья',\n",
              " 'и',\n",
              " 'ограды',\n",
              " 'уходят',\n",
              " 'вдаль',\n",
              " 'во',\n",
              " 'мглу',\n",
              " 'одна',\n",
              " 'средь',\n",
              " 'снегопада',\n",
              " 'стоишь',\n",
              " 'ты',\n",
              " 'на',\n",
              " 'углу',\n",
              " 'течет',\n",
              " 'вода',\n",
              " 'с',\n",
              " 'косынки',\n",
              " 'по',\n",
              " 'рукаву',\n",
              " 'в',\n",
              " 'обшлаг',\n",
              " 'и',\n",
              " 'каплями',\n",
              " 'росинки',\n",
              " 'сверкают',\n",
              " 'в',\n",
              " 'волосах',\n",
              " 'и',\n",
              " 'прядью',\n",
              " 'белокурой',\n",
              " 'озарены',\n",
              " 'лицо',\n",
              " 'косынка',\n",
              " 'и',\n",
              " 'фигура',\n",
              " 'и',\n",
              " 'это',\n",
              " 'пальтецо',\n",
              " 'снег',\n",
              " 'на',\n",
              " 'ресницах',\n",
              " 'влажен',\n",
              " 'в',\n",
              " 'твоих',\n",
              " 'глазах',\n",
              " 'тоска',\n",
              " 'и',\n",
              " 'весь',\n",
              " 'твой',\n",
              " 'облик',\n",
              " 'слажен',\n",
              " 'из',\n",
              " 'одного',\n",
              " 'куска',\n",
              " 'как',\n",
              " 'будто',\n",
              " 'бы',\n",
              " 'железом',\n",
              " 'обмокнутым',\n",
              " 'в',\n",
              " 'сурьму',\n",
              " 'тебя',\n",
              " 'вели',\n",
              " 'нарезом',\n",
              " 'по',\n",
              " 'сердцу',\n",
              " 'моему',\n",
              " 'и',\n",
              " 'в',\n",
              " 'нем',\n",
              " 'навек',\n",
              " 'засело',\n",
              " 'смиренье',\n",
              " 'этих',\n",
              " 'черт',\n",
              " 'и',\n",
              " 'оттого',\n",
              " 'нет',\n",
              " 'дела',\n",
              " 'что',\n",
              " 'свет',\n",
              " 'жестокосерд',\n",
              " 'и',\n",
              " 'оттого',\n",
              " 'двоится',\n",
              " 'вся',\n",
              " 'эта',\n",
              " 'ночь',\n",
              " 'в',\n",
              " 'снегу',\n",
              " 'и',\n",
              " 'провести',\n",
              " 'границы',\n",
              " 'меж',\n",
              " 'нас',\n",
              " 'я',\n",
              " 'не',\n",
              " 'могу',\n",
              " 'но',\n",
              " 'кто',\n",
              " 'мы',\n",
              " 'и',\n",
              " 'откуда',\n",
              " 'когда',\n",
              " 'от',\n",
              " 'всех',\n",
              " 'тех',\n",
              " 'лет',\n",
              " 'остались',\n",
              " 'пересуды',\n",
              " 'а',\n",
              " 'нас',\n",
              " 'на',\n",
              " 'свете',\n",
              " 'нет']"
            ]
          },
          "metadata": {},
          "execution_count": 367
        }
      ]
    },
    {
      "cell_type": "markdown",
      "source": [
        "### Посчитаем распределение частей речи для исходного текста\n"
      ],
      "metadata": {
        "id": "sePMCMgIwUqF"
      }
    },
    {
      "cell_type": "code",
      "source": [
        "cleaned_distribution = calculate_distribution(cleaned_data)"
      ],
      "metadata": {
        "id": "VrOg0VOMZ9v1"
      },
      "execution_count": null,
      "outputs": []
    },
    {
      "cell_type": "code",
      "source": [
        "cleaned_distribution"
      ],
      "metadata": {
        "colab": {
          "base_uri": "https://localhost:8080/"
        },
        "id": "TstsYyzxaQRp",
        "outputId": "f5418683-c631-4e05-9634-b6f3aa6d34cf"
      },
      "execution_count": null,
      "outputs": [
        {
          "output_type": "execute_result",
          "data": {
            "text/plain": [
              "{'ADJF': 15,\n",
              " 'ADJS': 4,\n",
              " 'ADVB': 5,\n",
              " 'CONJ': 18,\n",
              " 'INFN': 2,\n",
              " 'NOUN': 49,\n",
              " 'NPRO': 10,\n",
              " 'PRCL': 3,\n",
              " 'PRED': 2,\n",
              " 'PREP': 22,\n",
              " 'PRTF': 1,\n",
              " 'PRTS': 1,\n",
              " 'VERB': 14}"
            ]
          },
          "metadata": {},
          "execution_count": 369
        }
      ]
    },
    {
      "cell_type": "markdown",
      "source": [
        "### Посчитаем количество уникальных слов в тексте. Ячейка ниже проходится по всем словам исходного текста, нормализует их и сохраняет в set ```unique_words_data```."
      ],
      "metadata": {
        "id": "N9kLOvqyweiC"
      }
    },
    {
      "cell_type": "code",
      "source": [
        "morph = pymorphy2.MorphAnalyzer()\n",
        "unique_words_data = set()\n",
        "for i in cleaned_data:\n",
        "  unique_words_data.add(morph.parse(i)[0].normal_form)"
      ],
      "metadata": {
        "id": "-DFT5fxuezlu"
      },
      "execution_count": null,
      "outputs": []
    },
    {
      "cell_type": "code",
      "source": [
        "unique_words_data"
      ],
      "metadata": {
        "colab": {
          "base_uri": "https://localhost:8080/"
        },
        "id": "Hn5lxkhZWQ8O",
        "outputId": "bda8cf20-d2d3-446d-8950-c1c032c1441c"
      },
      "execution_count": null,
      "outputs": [
        {
          "output_type": "execute_result",
          "data": {
            "text/plain": [
              "{'а',\n",
              " 'без',\n",
              " 'белокурый',\n",
              " 'бороться',\n",
              " 'будто',\n",
              " 'бы',\n",
              " 'в',\n",
              " 'вдаль',\n",
              " 'вели',\n",
              " 'весь',\n",
              " 'влажный',\n",
              " 'вода',\n",
              " 'волнение',\n",
              " 'волос',\n",
              " 'глаз',\n",
              " 'год',\n",
              " 'граница',\n",
              " 'дверь',\n",
              " 'двоиться',\n",
              " 'дело',\n",
              " 'дерево',\n",
              " 'дорога',\n",
              " 'жевать',\n",
              " 'железо',\n",
              " 'жестокосердый',\n",
              " 'за',\n",
              " 'завалить',\n",
              " 'засесть',\n",
              " 'засыпать',\n",
              " 'и',\n",
              " 'из',\n",
              " 'как',\n",
              " 'калоша',\n",
              " 'капля',\n",
              " 'когда',\n",
              " 'косынка',\n",
              " 'крыша',\n",
              " 'кто',\n",
              " 'кусок',\n",
              " 'лицо',\n",
              " 'мгла',\n",
              " 'меж',\n",
              " 'мой',\n",
              " 'мокрый',\n",
              " 'мочь',\n",
              " 'мы',\n",
              " 'на',\n",
              " 'навек',\n",
              " 'нарез',\n",
              " 'не',\n",
              " 'немой',\n",
              " 'нет',\n",
              " 'но',\n",
              " 'нога',\n",
              " 'ночь',\n",
              " 'облик',\n",
              " 'обмокнуть',\n",
              " 'обшлаг',\n",
              " 'ограда',\n",
              " 'один',\n",
              " 'озарить',\n",
              " 'осенний',\n",
              " 'остаться',\n",
              " 'от',\n",
              " 'откуда',\n",
              " 'оттого',\n",
              " 'пальтецо',\n",
              " 'пальто',\n",
              " 'пересуд',\n",
              " 'по',\n",
              " 'пойти',\n",
              " 'провести',\n",
              " 'прядь',\n",
              " 'размять',\n",
              " 'ресница',\n",
              " 'росинка',\n",
              " 'рукав',\n",
              " 'с',\n",
              " 'сверкать',\n",
              " 'свет',\n",
              " 'сердце',\n",
              " 'скат',\n",
              " 'слаженный',\n",
              " 'смирение',\n",
              " 'снег',\n",
              " 'снегопад',\n",
              " 'средь',\n",
              " 'стоить',\n",
              " 'сурьма',\n",
              " 'твой',\n",
              " 'течь',\n",
              " 'тоска',\n",
              " 'тот',\n",
              " 'ты',\n",
              " 'угол',\n",
              " 'уходить',\n",
              " 'фигура',\n",
              " 'черта',\n",
              " 'что',\n",
              " 'шляпа',\n",
              " 'это',\n",
              " 'этот',\n",
              " 'я'}"
            ]
          },
          "metadata": {},
          "execution_count": 371
        }
      ]
    },
    {
      "cell_type": "markdown",
      "source": [
        "### Посчитаем распределение частей речи для уникальных слов\n"
      ],
      "metadata": {
        "id": "3b4CPI8txQk1"
      }
    },
    {
      "cell_type": "code",
      "source": [
        "unique_distribution = calculate_distribution(unique_words_data)"
      ],
      "metadata": {
        "id": "gElAPwJYWZCQ"
      },
      "execution_count": null,
      "outputs": []
    },
    {
      "cell_type": "code",
      "source": [
        "unique_distribution"
      ],
      "metadata": {
        "colab": {
          "base_uri": "https://localhost:8080/"
        },
        "id": "_V82FPfLWhXL",
        "outputId": "caebb966-9e64-45ca-9313-6c3dae547de5"
      },
      "execution_count": null,
      "outputs": [
        {
          "output_type": "execute_result",
          "data": {
            "text/plain": [
              "{'ADJF': 13,\n",
              " 'ADVB': 4,\n",
              " 'CONJ': 7,\n",
              " 'INFN': 15,\n",
              " 'NOUN': 46,\n",
              " 'NPRO': 4,\n",
              " 'PRCL': 3,\n",
              " 'PRED': 1,\n",
              " 'PREP': 10}"
            ]
          },
          "metadata": {},
          "execution_count": 373
        }
      ]
    },
    {
      "cell_type": "markdown",
      "source": [
        "### Выведем распределение частей речи до и после очистки, число использованных слов и число уникальных слов"
      ],
      "metadata": {
        "id": "TtkhUAV71Yyf"
      }
    },
    {
      "cell_type": "code",
      "source": [
        "df = pandas.DataFrame([cleaned_distribution, unique_distribution], index=['Cleaned', 'Unique'])\n",
        "df['Summary'] = df[list(df.columns)].sum(axis=1)"
      ],
      "metadata": {
        "id": "q6WkYbLgkPfN"
      },
      "execution_count": null,
      "outputs": []
    },
    {
      "cell_type": "code",
      "source": [
        "df"
      ],
      "metadata": {
        "colab": {
          "base_uri": "https://localhost:8080/",
          "height": 112
        },
        "id": "OX_Kalobk1V6",
        "outputId": "c505bfdf-38e2-498f-838b-04376cf08b59"
      },
      "execution_count": null,
      "outputs": [
        {
          "output_type": "execute_result",
          "data": {
            "text/plain": [
              "         NOUN  PREP  CONJ  ADJF  VERB  NPRO  ADVB  ADJS  PRCL  INFN  PRED  \\\n",
              "Cleaned    49    22    18    15  14.0    10     5   4.0     3     2     2   \n",
              "Unique     46    10     7    13   NaN     4     4   NaN     3    15     1   \n",
              "\n",
              "         PRTS  PRTF  Summary  \n",
              "Cleaned   1.0   1.0    146.0  \n",
              "Unique    NaN   NaN    103.0  "
            ],
            "text/html": [
              "\n",
              "  <div id=\"df-022aed8e-ae0e-4cc3-800b-250f199dc185\">\n",
              "    <div class=\"colab-df-container\">\n",
              "      <div>\n",
              "<style scoped>\n",
              "    .dataframe tbody tr th:only-of-type {\n",
              "        vertical-align: middle;\n",
              "    }\n",
              "\n",
              "    .dataframe tbody tr th {\n",
              "        vertical-align: top;\n",
              "    }\n",
              "\n",
              "    .dataframe thead th {\n",
              "        text-align: right;\n",
              "    }\n",
              "</style>\n",
              "<table border=\"1\" class=\"dataframe\">\n",
              "  <thead>\n",
              "    <tr style=\"text-align: right;\">\n",
              "      <th></th>\n",
              "      <th>NOUN</th>\n",
              "      <th>PREP</th>\n",
              "      <th>CONJ</th>\n",
              "      <th>ADJF</th>\n",
              "      <th>VERB</th>\n",
              "      <th>NPRO</th>\n",
              "      <th>ADVB</th>\n",
              "      <th>ADJS</th>\n",
              "      <th>PRCL</th>\n",
              "      <th>INFN</th>\n",
              "      <th>PRED</th>\n",
              "      <th>PRTS</th>\n",
              "      <th>PRTF</th>\n",
              "      <th>Summary</th>\n",
              "    </tr>\n",
              "  </thead>\n",
              "  <tbody>\n",
              "    <tr>\n",
              "      <th>Cleaned</th>\n",
              "      <td>49</td>\n",
              "      <td>22</td>\n",
              "      <td>18</td>\n",
              "      <td>15</td>\n",
              "      <td>14.0</td>\n",
              "      <td>10</td>\n",
              "      <td>5</td>\n",
              "      <td>4.0</td>\n",
              "      <td>3</td>\n",
              "      <td>2</td>\n",
              "      <td>2</td>\n",
              "      <td>1.0</td>\n",
              "      <td>1.0</td>\n",
              "      <td>146.0</td>\n",
              "    </tr>\n",
              "    <tr>\n",
              "      <th>Unique</th>\n",
              "      <td>46</td>\n",
              "      <td>10</td>\n",
              "      <td>7</td>\n",
              "      <td>13</td>\n",
              "      <td>NaN</td>\n",
              "      <td>4</td>\n",
              "      <td>4</td>\n",
              "      <td>NaN</td>\n",
              "      <td>3</td>\n",
              "      <td>15</td>\n",
              "      <td>1</td>\n",
              "      <td>NaN</td>\n",
              "      <td>NaN</td>\n",
              "      <td>103.0</td>\n",
              "    </tr>\n",
              "  </tbody>\n",
              "</table>\n",
              "</div>\n",
              "      <button class=\"colab-df-convert\" onclick=\"convertToInteractive('df-022aed8e-ae0e-4cc3-800b-250f199dc185')\"\n",
              "              title=\"Convert this dataframe to an interactive table.\"\n",
              "              style=\"display:none;\">\n",
              "        \n",
              "  <svg xmlns=\"http://www.w3.org/2000/svg\" height=\"24px\"viewBox=\"0 0 24 24\"\n",
              "       width=\"24px\">\n",
              "    <path d=\"M0 0h24v24H0V0z\" fill=\"none\"/>\n",
              "    <path d=\"M18.56 5.44l.94 2.06.94-2.06 2.06-.94-2.06-.94-.94-2.06-.94 2.06-2.06.94zm-11 1L8.5 8.5l.94-2.06 2.06-.94-2.06-.94L8.5 2.5l-.94 2.06-2.06.94zm10 10l.94 2.06.94-2.06 2.06-.94-2.06-.94-.94-2.06-.94 2.06-2.06.94z\"/><path d=\"M17.41 7.96l-1.37-1.37c-.4-.4-.92-.59-1.43-.59-.52 0-1.04.2-1.43.59L10.3 9.45l-7.72 7.72c-.78.78-.78 2.05 0 2.83L4 21.41c.39.39.9.59 1.41.59.51 0 1.02-.2 1.41-.59l7.78-7.78 2.81-2.81c.8-.78.8-2.07 0-2.86zM5.41 20L4 18.59l7.72-7.72 1.47 1.35L5.41 20z\"/>\n",
              "  </svg>\n",
              "      </button>\n",
              "      \n",
              "  <style>\n",
              "    .colab-df-container {\n",
              "      display:flex;\n",
              "      flex-wrap:wrap;\n",
              "      gap: 12px;\n",
              "    }\n",
              "\n",
              "    .colab-df-convert {\n",
              "      background-color: #E8F0FE;\n",
              "      border: none;\n",
              "      border-radius: 50%;\n",
              "      cursor: pointer;\n",
              "      display: none;\n",
              "      fill: #1967D2;\n",
              "      height: 32px;\n",
              "      padding: 0 0 0 0;\n",
              "      width: 32px;\n",
              "    }\n",
              "\n",
              "    .colab-df-convert:hover {\n",
              "      background-color: #E2EBFA;\n",
              "      box-shadow: 0px 1px 2px rgba(60, 64, 67, 0.3), 0px 1px 3px 1px rgba(60, 64, 67, 0.15);\n",
              "      fill: #174EA6;\n",
              "    }\n",
              "\n",
              "    [theme=dark] .colab-df-convert {\n",
              "      background-color: #3B4455;\n",
              "      fill: #D2E3FC;\n",
              "    }\n",
              "\n",
              "    [theme=dark] .colab-df-convert:hover {\n",
              "      background-color: #434B5C;\n",
              "      box-shadow: 0px 1px 3px 1px rgba(0, 0, 0, 0.15);\n",
              "      filter: drop-shadow(0px 1px 2px rgba(0, 0, 0, 0.3));\n",
              "      fill: #FFFFFF;\n",
              "    }\n",
              "  </style>\n",
              "\n",
              "      <script>\n",
              "        const buttonEl =\n",
              "          document.querySelector('#df-022aed8e-ae0e-4cc3-800b-250f199dc185 button.colab-df-convert');\n",
              "        buttonEl.style.display =\n",
              "          google.colab.kernel.accessAllowed ? 'block' : 'none';\n",
              "\n",
              "        async function convertToInteractive(key) {\n",
              "          const element = document.querySelector('#df-022aed8e-ae0e-4cc3-800b-250f199dc185');\n",
              "          const dataTable =\n",
              "            await google.colab.kernel.invokeFunction('convertToInteractive',\n",
              "                                                     [key], {});\n",
              "          if (!dataTable) return;\n",
              "\n",
              "          const docLinkHtml = 'Like what you see? Visit the ' +\n",
              "            '<a target=\"_blank\" href=https://colab.research.google.com/notebooks/data_table.ipynb>data table notebook</a>'\n",
              "            + ' to learn more about interactive tables.';\n",
              "          element.innerHTML = '';\n",
              "          dataTable['output_type'] = 'display_data';\n",
              "          await google.colab.output.renderOutput(dataTable, element);\n",
              "          const docLink = document.createElement('div');\n",
              "          docLink.innerHTML = docLinkHtml;\n",
              "          element.appendChild(docLink);\n",
              "        }\n",
              "      </script>\n",
              "    </div>\n",
              "  </div>\n",
              "  "
            ]
          },
          "metadata": {},
          "execution_count": 375
        }
      ]
    },
    {
      "cell_type": "code",
      "source": [
        "barplot_dict(cleaned_distribution)"
      ],
      "metadata": {
        "colab": {
          "base_uri": "https://localhost:8080/",
          "height": 288
        },
        "id": "2wmkigbJXFkO",
        "outputId": "b5ee25f7-eb7d-4baf-a9a5-8f281774c876"
      },
      "execution_count": null,
      "outputs": [
        {
          "output_type": "display_data",
          "data": {
            "text/plain": [
              "<Figure size 432x288 with 1 Axes>"
            ],
            "image/png": "[encoded data removed]"
          },
          "metadata": {}
        }
      ]
    },
    {
      "cell_type": "code",
      "source": [
        "barplot_dict(unique_distribution)"
      ],
      "metadata": {
        "colab": {
          "base_uri": "https://localhost:8080/",
          "height": 288
        },
        "id": "XhK5oDrdW-Oe",
        "outputId": "f58cedd7-7619-4113-cf98-a0866164edc6"
      },
      "execution_count": null,
      "outputs": [
        {
          "output_type": "display_data",
          "data": {
            "text/plain": [
              "<Figure size 432x288 with 1 Axes>"
            ],
            "image/png": "[encoded data removed]"
          },
          "metadata": {}
        }
      ]
    },
    {
      "cell_type": "markdown",
      "source": [
        "### Для лучшей визуализации выведем распределение до и после очистки на одной диаграмме"
      ],
      "metadata": {
        "id": "doPlKDgG9Cv-"
      }
    },
    {
      "cell_type": "code",
      "source": [
        "df = {}\n",
        "q = list(cleaned_distribution.keys())\n",
        "q.extend(list(unique_distribution.keys()))\n",
        "df['POS'] = q\n",
        "df['Cleaned'] = []\n",
        "df['Unique'] = []\n",
        "for i in df['POS']:\n",
        "  if i not in cleaned_distribution:\n",
        "    df['Cleaned'].append(0)\n",
        "  else:\n",
        "    df['Cleaned'].append(cleaned_distribution[i])\n",
        "  if i not in unique_distribution:\n",
        "    df['Unique'].append(0)\n",
        "  else:\n",
        "    df['Unique'].append(unique_distribution[i])\n"
      ],
      "metadata": {
        "id": "heIMYK4ycOKS"
      },
      "execution_count": null,
      "outputs": []
    },
    {
      "cell_type": "code",
      "source": [
        "df = pandas.DataFrame(df)\n",
        "fig, ax1 = plt.subplots(figsize=(10, 10))\n",
        "tidy = df.melt(id_vars='POS').set_axis(['POS', 'Before/After', 'Number'], axis=1, inplace=False)\n",
        "sns.barplot(x='POS', y='Number', hue='Before/After', data=tidy, ax=ax1)\n",
        "sns.despine(fig)"
      ],
      "metadata": {
        "colab": {
          "base_uri": "https://localhost:8080/",
          "height": 611
        },
        "id": "kpVd5HpMgcqM",
        "outputId": "8224887f-c07c-4a99-f3b2-915727b17b16"
      },
      "execution_count": null,
      "outputs": [
        {
          "output_type": "display_data",
          "data": {
            "text/plain": [
              "<Figure size 720x720 with 1 Axes>"
            ],
            "image/png": "[encoded data removed]"
          },
          "metadata": {}
        }
      ]
    },
    {
      "cell_type": "markdown",
      "source": [
        "### Порядок следования прилагательных и существительных"
      ],
      "metadata": {
        "id": "gzb71ioXlpIl"
      }
    },
    {
      "cell_type": "code",
      "source": [
        "noun_adj = 0\n",
        "adj_noun = 0\n",
        "for i in range(len(cleaned_data) - 1):\n",
        "  word1 = morph.parse(cleaned_data[i])[0].normal_form\n",
        "  word2 = morph.parse(cleaned_data[i+1])[0].normal_form\n",
        "  if str(morph.parse(word1)[0].tag.POS) == 'NOUN' and str(morph.parse(word2)[0].tag.POS) == 'ADJF':\n",
        "    print(1, word1, word2)\n",
        "    noun_adj += 1\n",
        "  elif str(morph.parse(word2)[0].tag.POS) == 'NOUN' and str(morph.parse(word1)[0].tag.POS) == 'ADJF':\n",
        "    adj_noun += 1\n",
        "    print(2, word1, word2)\n"
      ],
      "metadata": {
        "colab": {
          "base_uri": "https://localhost:8080/"
        },
        "id": "amE24gS4lwTI",
        "outputId": "d47d78ad-7835-4bd6-87aa-5a79830ac214"
      },
      "execution_count": null,
      "outputs": [
        {
          "output_type": "stream",
          "name": "stdout",
          "text": [
            "1 пальто осенний\n",
            "2 мокрый снег\n",
            "1 мгла один\n",
            "1 прядь белокурый\n",
            "1 ресница влажный\n",
            "2 твой глаз\n",
            "2 твой облик\n",
            "1 облик слаженный\n",
            "2 один кусок\n",
            "1 сердце мой\n",
            "1 смирение этот\n",
            "2 этот черта\n",
            "1 свет жестокосердый\n",
            "2 этот ночь\n",
            "2 тот год\n"
          ]
        }
      ]
    },
    {
      "cell_type": "code",
      "source": [
        "print('Noun + adectif: ', noun_adj)\n",
        "print('Adectif + noun: ', adj_noun)"
      ],
      "metadata": {
        "colab": {
          "base_uri": "https://localhost:8080/"
        },
        "id": "IEZqXJqt91Lh",
        "outputId": "3da04a44-77ee-4c74-a6f3-14f550c1c8d3"
      },
      "execution_count": null,
      "outputs": [
        {
          "output_type": "stream",
          "name": "stdout",
          "text": [
            "Noun + adectif:  8\n",
            "Adectif + noun:  7\n"
          ]
        }
      ]
    },
    {
      "cell_type": "markdown",
      "source": [
        "### Conllu файл:"
      ],
      "metadata": {
        "id": "T8FEolLj280v"
      }
    },
    {
      "cell_type": "code",
      "source": [
        "doc = Doc(text)"
      ],
      "metadata": {
        "id": "7Apcoj1Pc2PK"
      },
      "execution_count": null,
      "outputs": []
    },
    {
      "cell_type": "markdown",
      "source": [
        "### Подготовим исходный текст с помощью парсера ```natasha```: разобьем на слова, нормализуем и разметим для дальнейшего синатксического анализа\n"
      ],
      "metadata": {
        "id": "2YEsWGbF4bMa"
      }
    },
    {
      "cell_type": "code",
      "source": [
        "segmenter = Segmenter()\n",
        "emb = NewsEmbedding()\n",
        "morph_tagger = NewsMorphTagger(emb)\n",
        "syntax_parser = NewsSyntaxParser(emb)\n",
        "ner_tagger = NewsNERTagger(emb)\n",
        "morph_vocab = MorphVocab()\n",
        "doc.segment(segmenter)"
      ],
      "metadata": {
        "id": "wfMpyjEpc6nU"
      },
      "execution_count": null,
      "outputs": []
    },
    {
      "cell_type": "code",
      "source": [
        "print(doc.tokens[:5]) # первые 5 размеченных слов\n",
        "print(doc.sents[:5])  # первые 5 размеченных предложений"
      ],
      "metadata": {
        "colab": {
          "base_uri": "https://localhost:8080/"
        },
        "id": "tmj84XwheCee",
        "outputId": "87d23afd-03c7-4cd0-ee54-588316e31802"
      },
      "execution_count": null,
      "outputs": [
        {
          "output_type": "stream",
          "name": "stdout",
          "text": [
            "[DocToken(stop=7, text='Засыпет'), DocToken(start=8, stop=12, text='снег'), DocToken(start=13, stop=19, text='дороги'), DocToken(start=19, stop=20, text=','), DocToken(start=21, stop=28, text='Завалит')]\n",
            "[DocSent(stop=40, text='Засыпет снег дороги,\\nЗавалит скаты крыш.', tokens=[...]), DocSent(start=41, stop=83, text='Пойду размять я ноги:\\nЗа дверью ты стоишь.', tokens=[...]), DocSent(start=85, stop=175, text='Одна, в пальто осеннем,\\nБез шляпы, без калош,\\nТ..., tokens=[...]), DocSent(start=177, stop=216, text='Деревья и ограды\\nУходят вдаль, во мглу.', tokens=[...]), DocSent(start=217, stop=256, text='Одна средь снегопада\\nСтоишь ты на углу.', tokens=[...])]\n"
          ]
        }
      ]
    },
    {
      "cell_type": "code",
      "source": [
        "doc.tag_morph(morph_tagger)\n",
        "print(doc.tokens[:5])\n",
        "doc.sents[0].morph.print()"
      ],
      "metadata": {
        "colab": {
          "base_uri": "https://localhost:8080/"
        },
        "id": "kG2tHx0LeQD3",
        "outputId": "76f38985-e52b-403c-edc8-2c4afc44071f"
      },
      "execution_count": null,
      "outputs": [
        {
          "output_type": "stream",
          "name": "stdout",
          "text": [
            "[DocToken(stop=7, text='Засыпет', pos='ADJ', feats=<Nom,Pos,Masc,Sing>), DocToken(start=8, stop=12, text='снег', pos='NOUN', feats=<Inan,Nom,Masc,Sing>), DocToken(start=13, stop=19, text='дороги', pos='NOUN', feats=<Inan,Gen,Fem,Sing>), DocToken(start=19, stop=20, text=',', pos='PUNCT'), DocToken(start=21, stop=28, text='Завалит', pos='PROPN', feats=<Inan,Acc,Fem,Sing>)]\n",
            "             Засыпет ADJ|Case=Nom|Degree=Pos|Gender=Masc|Number=Sing\n",
            "                снег NOUN|Animacy=Inan|Case=Nom|Gender=Masc|Number=Sing\n",
            "              дороги NOUN|Animacy=Inan|Case=Gen|Gender=Fem|Number=Sing\n",
            "                   , PUNCT\n",
            "             Завалит PROPN|Animacy=Inan|Case=Acc|Gender=Fem|Number=Sing\n",
            "               скаты NOUN|Animacy=Inan|Case=Acc|Gender=Masc|Number=Plur\n",
            "                крыш NOUN|Animacy=Inan|Case=Gen|Gender=Fem|Number=Plur\n",
            "                   . PUNCT\n"
          ]
        }
      ]
    },
    {
      "cell_type": "code",
      "source": [
        "for token in doc.tokens:\n",
        "  token.lemmatize(morph_vocab)"
      ],
      "metadata": {
        "id": "7HJ3Ir5Jk4lo"
      },
      "execution_count": null,
      "outputs": []
    },
    {
      "cell_type": "code",
      "source": [
        "doc.sents[0].tokens"
      ],
      "metadata": {
        "colab": {
          "base_uri": "https://localhost:8080/"
        },
        "id": "7SlNSnXWlXcg",
        "outputId": "cce0db48-da40-4ca9-9ea5-12fa07efe013"
      },
      "execution_count": null,
      "outputs": [
        {
          "output_type": "execute_result",
          "data": {
            "text/plain": [
              "[DocToken(stop=7, text='Засыпет', pos='ADJ', feats=<Nom,Pos,Masc,Sing>, lemma='засыпать'),\n",
              " DocToken(start=8, stop=12, text='снег', pos='NOUN', feats=<Inan,Nom,Masc,Sing>, lemma='снег'),\n",
              " DocToken(start=13, stop=19, text='дороги', pos='NOUN', feats=<Inan,Gen,Fem,Sing>, lemma='дорога'),\n",
              " DocToken(start=19, stop=20, text=',', pos='PUNCT', lemma=','),\n",
              " DocToken(start=21, stop=28, text='Завалит', pos='PROPN', feats=<Inan,Acc,Fem,Sing>, lemma='завалить'),\n",
              " DocToken(start=29, stop=34, text='скаты', pos='NOUN', feats=<Inan,Acc,Masc,Plur>, lemma='скат'),\n",
              " DocToken(start=35, stop=39, text='крыш', pos='NOUN', feats=<Inan,Gen,Fem,Plur>, lemma='крыша'),\n",
              " DocToken(start=39, stop=40, text='.', pos='PUNCT', lemma='.')]"
            ]
          },
          "metadata": {},
          "execution_count": 394
        }
      ]
    },
    {
      "cell_type": "markdown",
      "source": [
        "### Выведем деревья зависимостей для двух предложений"
      ],
      "metadata": {
        "id": "Ycn5dHEn3Ku7"
      }
    },
    {
      "cell_type": "code",
      "source": [
        "doc.parse_syntax(syntax_parser)\n",
        "doc.sents[-1].syntax.print()\n",
        "doc.sents[-2].syntax.print()"
      ],
      "metadata": {
        "colab": {
          "base_uri": "https://localhost:8080/"
        },
        "id": "fRXK7THTeWtD",
        "outputId": "56e7ed78-0d39-4b2f-bc69-6d43e22fca3b"
      },
      "execution_count": null,
      "outputs": [
        {
          "output_type": "stream",
          "name": "stdout",
          "text": [
            "      ┌──────────► Но       cc\n",
            "      │ ┌────────► кто      nsubj\n",
            "      │ │ ┌──────► мы       nsubj\n",
            "      │ │ │     ┌► и        advmod\n",
            "┌─────│ │ │     └─ откуда   \n",
            "│ ┌──►│ │ │        ,        punct\n",
            "│ │ ┌►│ │ │        Когда    advmod\n",
            "│ │ │ │ │ │ ┌────► от       case\n",
            "│ │ │ │ │ │ │ ┌──► всех     det\n",
            "│ │ │ │ │ │ │ │ ┌► тех      det\n",
            "│ │ │ │ │ │ └─└─└─ лет      obl\n",
            "│ │ │ └─└─└─┌─└─┌─ Остались \n",
            "│ │ │   │ │ │   └► пересуды nsubj\n",
            "│ │ │   │ │ └────► ,        punct\n",
            "│ │ │   │ │ ┌────► А        cc\n",
            "│ │ │   │ │ │ ┌──► нас      nsubj\n",
            "│ │ │   │ │ │ │ ┌► на       case\n",
            "│ │ │   │ └►│ │ └─ свете    obl\n",
            "└►└─└───│   └─└─── нет      acl:relcl\n",
            "        └────────► ?        punct\n",
            "          ┌──► И        cc\n",
            "          │ ┌► оттого   advmod\n",
            "┌─────┌─┌─└─└─ двоится  \n",
            "│     │ │ ┌──► Вся      det\n",
            "│     │ │ │ ┌► эта      det\n",
            "│     │ └►└─└─ ночь     nsubj\n",
            "│     │     ┌► в        case\n",
            "│     └────►└─ снегу    obl\n",
            "│ ┌──────────► ,        punct\n",
            "│ │ ┌────────► И        cc\n",
            "│ │ │ ┌►┌───┌─ провести xcomp\n",
            "│ │ │ │ │ ┌─└► границы  obj\n",
            "│ │ │ │ │ └──► Меж      nmod\n",
            "│ │ │ │ └────► нас      obj\n",
            "│ │ │ │   ┌──► я        nsubj\n",
            "│ │ │ │   │ ┌► не       advmod\n",
            "│ └─└─└───└─└─ могу     \n",
            "└────────────► .        punct\n"
          ]
        }
      ]
    },
    {
      "cell_type": "code",
      "source": [
        "doc.tokens"
      ],
      "metadata": {
        "id": "7STDEUMN1q5x"
      },
      "execution_count": null,
      "outputs": []
    },
    {
      "cell_type": "markdown",
      "source": [
        "### На основе разметки, созданной библиотекой ```natasha``` создадим conllu файл"
      ],
      "metadata": {
        "id": "OQ82Yqlz3nHs"
      }
    },
    {
      "cell_type": "code",
      "source": [
        "with open('new.conllu', 'w') as f:\n",
        "  for sent in doc.sents:\n",
        "    id = 1\n",
        "    for token in sent.tokens:\n",
        "      feats = ''.join([u + '=' + token.feats[u] + '|' for u in token.feats])[:-1]\n",
        "      feats = '_' if feats == '' else feats\n",
        "      f.write(\"%d   %20s   %10s    %10s   _       %s        %d         %s   _   _ \\n\" % (id, token.text, token.lemma, token.pos, feats,  int(token.head_id.split('_')[-1]), token.rel))\n",
        "      id += 1\n"
      ],
      "metadata": {
        "id": "WaP_UeHnndzs"
      },
      "execution_count": null,
      "outputs": []
    },
    {
      "cell_type": "markdown",
      "source": [
        "### Проверим, что он открывается библиотекой conllu"
      ],
      "metadata": {
        "id": "BlvOLSP8361H"
      }
    },
    {
      "cell_type": "code",
      "source": [
        "cnl = conllu.parse(open('new.conllu').read())"
      ],
      "metadata": {
        "id": "t5T93_zWm8ut"
      },
      "execution_count": null,
      "outputs": []
    },
    {
      "cell_type": "code",
      "source": [
        "cnl[0]"
      ],
      "metadata": {
        "colab": {
          "base_uri": "https://localhost:8080/"
        },
        "id": "oDnj0ZcTNLg2",
        "outputId": "1ac69b61-2d1e-4eff-9208-48541c4b1a15"
      },
      "execution_count": null,
      "outputs": [
        {
          "output_type": "execute_result",
          "data": {
            "text/plain": [
              "TokenList<Засыпет, снег, дороги, ,, Завалит, скаты, крыш, ., Пойду, размять, я, ноги, :, За, дверью, ты, стоишь, ., Одна, ,, в, пальто, осеннем, ,, Без, шляпы, ,, без, калош, ,, Ты, борешься, с, волненьем, И, мокрый, снег, жуешь, ., Деревья, и, ограды, Уходят, вдаль, ,, во, мглу, ., Одна, средь, снегопада, Стоишь, ты, на, углу, ., Течет, вода, с, косынки, По, рукаву, в, обшлаг, ,, И, каплями, росинки, Сверкают, в, волосах, ., И, прядью, белокурой, Озарены, :, лицо, ,, Косынка, ,, и, фигура, ,, И, это, пальтецо, ., Снег, на, ресницах, влажен, ,, В, твоих, глазах, тоска, ,, И, весь, твой, облик, слажен, Из, одного, куска, ., Как, будто, бы, железом, ,, Обмокнутым, в, сурьму, ,, Тебя, вели, нарезом, По, сердцу, моему, ., И, в, нем, навек, засело, Смиренье, этих, черт, ,, И, оттого, нет, дела, ,, Что, свет, жестокосерд, ., И, оттого, двоится, Вся, эта, ночь, в, снегу, ,, И, провести, границы, Меж, нас, я, не, могу, ., Но, кто, мы, и, откуда, ,, Когда, от, всех, тех, лет, Остались, пересуды, ,, А, нас, на, свете, нет, ?>"
            ]
          },
          "metadata": {},
          "execution_count": 399
        }
      ]
    }
  ]
}